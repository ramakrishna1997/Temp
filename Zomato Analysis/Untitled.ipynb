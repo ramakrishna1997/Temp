{
 "cells": [
  {
   "cell_type": "code",
   "execution_count": 1,
   "id": "4b559c8d",
   "metadata": {},
   "outputs": [],
   "source": [
    "Weather = \"Rainfall\""
   ]
  },
  {
   "cell_type": "code",
   "execution_count": 24,
   "id": "ac0038fe",
   "metadata": {},
   "outputs": [
    {
     "data": {
      "text/plain": [
       "'fall'"
      ]
     },
     "execution_count": 24,
     "metadata": {},
     "output_type": "execute_result"
    }
   ],
   "source": [
    "Weather[4:]"
   ]
  },
  {
   "cell_type": "code",
   "execution_count": 1,
   "id": "c4f2d027",
   "metadata": {},
   "outputs": [
    {
     "name": "stdout",
     "output_type": "stream",
     "text": [
      "Requirement already satisfied: pip in c:\\users\\ramakrishna\\appdata\\local\\programs\\python\\python311\\lib\\site-packages (23.1)\n",
      "Note: you may need to restart the kernel to use updated packages.\n"
     ]
    }
   ],
   "source": [
    "pip install --upgrade pip"
   ]
  },
  {
   "cell_type": "code",
   "execution_count": 2,
   "id": "9355c1c4",
   "metadata": {},
   "outputs": [
    {
     "name": "stdout",
     "output_type": "stream",
     "text": [
      "Requirement already satisfied: pip in c:\\users\\ramakrishna\\appdata\\local\\programs\\python\\python311\\lib\\site-packages (23.1)\n",
      "Note: you may need to restart the kernel to use updated packages.\n"
     ]
    }
   ],
   "source": [
    "pip install pip"
   ]
  },
  {
   "cell_type": "code",
   "execution_count": 3,
   "id": "b1ba1731",
   "metadata": {},
   "outputs": [
    {
     "name": "stdout",
     "output_type": "stream",
     "text": [
      "Requirement already satisfied: pdf2docx in c:\\users\\ramakrishna\\appdata\\local\\programs\\python\\python311\\lib\\site-packages (0.5.6)\n",
      "Requirement already satisfied: PyMuPDF>=1.19.0 in c:\\users\\ramakrishna\\appdata\\local\\programs\\python\\python311\\lib\\site-packages (from pdf2docx) (1.21.1)\n",
      "Requirement already satisfied: python-docx>=0.8.10 in c:\\users\\ramakrishna\\appdata\\local\\programs\\python\\python311\\lib\\site-packages (from pdf2docx) (0.8.11)\n",
      "Requirement already satisfied: fonttools>=4.24.0 in c:\\users\\ramakrishna\\appdata\\local\\programs\\python\\python311\\lib\\site-packages (from pdf2docx) (4.38.0)\n",
      "Requirement already satisfied: numpy>=1.17.2 in c:\\users\\ramakrishna\\appdata\\local\\programs\\python\\python311\\lib\\site-packages (from pdf2docx) (1.24.1)\n",
      "Requirement already satisfied: opencv-python>=4.5 in c:\\users\\ramakrishna\\appdata\\local\\programs\\python\\python311\\lib\\site-packages (from pdf2docx) (4.7.0.72)\n",
      "Requirement already satisfied: fire>=0.3.0 in c:\\users\\ramakrishna\\appdata\\local\\programs\\python\\python311\\lib\\site-packages (from pdf2docx) (0.5.0)\n",
      "Requirement already satisfied: six in c:\\users\\ramakrishna\\appdata\\local\\programs\\python\\python311\\lib\\site-packages (from fire>=0.3.0->pdf2docx) (1.16.0)\n",
      "Requirement already satisfied: termcolor in c:\\users\\ramakrishna\\appdata\\local\\programs\\python\\python311\\lib\\site-packages (from fire>=0.3.0->pdf2docx) (2.2.0)\n",
      "Requirement already satisfied: lxml>=2.3.2 in c:\\users\\ramakrishna\\appdata\\local\\programs\\python\\python311\\lib\\site-packages (from python-docx>=0.8.10->pdf2docx) (4.9.2)\n",
      "Note: you may need to restart the kernel to use updated packages.\n"
     ]
    }
   ],
   "source": [
    "pip install pdf2docx"
   ]
  },
  {
   "cell_type": "code",
   "execution_count": 5,
   "id": "4e87d579",
   "metadata": {},
   "outputs": [],
   "source": [
    "import pdf2docx "
   ]
  },
  {
   "cell_type": "code",
   "execution_count": 17,
   "id": "7cd9899f",
   "metadata": {},
   "outputs": [],
   "source": [
    "from pdf2docx import Converter\n",
    "import os"
   ]
  },
  {
   "cell_type": "code",
   "execution_count": 26,
   "id": "77b3cce2",
   "metadata": {},
   "outputs": [],
   "source": [
    "pdf_file=r\"D:\\Exam\\pandas.pdf\"\n",
    "doc_file=r\"D:\\Exam\\Doc1.docx\""
   ]
  },
  {
   "cell_type": "code",
   "execution_count": 27,
   "id": "fed17a05",
   "metadata": {},
   "outputs": [],
   "source": [
    "cv=Converter(pdf_file)"
   ]
  },
  {
   "cell_type": "code",
   "execution_count": 28,
   "id": "8515e4bb",
   "metadata": {},
   "outputs": [
    {
     "name": "stderr",
     "output_type": "stream",
     "text": [
      "[INFO] Start to convert D:\\Exam\\pandas.pdf\n",
      "[INFO] \u001b[1;36m[1/4] Opening document...\u001b[0m\n",
      "[INFO] \u001b[1;36m[2/4] Analyzing document...\u001b[0m\n",
      "[WARNING] Words count: 0. It might be a scanned pdf, which is not supported yet.\n",
      "[INFO] \u001b[1;36m[3/4] Parsing pages...\u001b[0m\n",
      "[INFO] (1/5) Page 1\n",
      "[INFO] (2/5) Page 2\n",
      "[INFO] (3/5) Page 3\n",
      "[INFO] (4/5) Page 4\n",
      "[INFO] (5/5) Page 5\n",
      "[INFO] \u001b[1;36m[4/4] Creating pages...\u001b[0m\n",
      "[INFO] (1/5) Page 1\n",
      "[INFO] (2/5) Page 2\n",
      "[INFO] (3/5) Page 3\n",
      "[INFO] (4/5) Page 4\n",
      "[INFO] (5/5) Page 5\n",
      "[INFO] Terminated in 1.85s.\n"
     ]
    }
   ],
   "source": [
    "cv.convert(doc_file)"
   ]
  }
 ],
 "metadata": {
  "kernelspec": {
   "display_name": "Python 3 (ipykernel)",
   "language": "python",
   "name": "python3"
  },
  "language_info": {
   "codemirror_mode": {
    "name": "ipython",
    "version": 3
   },
   "file_extension": ".py",
   "mimetype": "text/x-python",
   "name": "python",
   "nbconvert_exporter": "python",
   "pygments_lexer": "ipython3",
   "version": "3.11.1"
  }
 },
 "nbformat": 4,
 "nbformat_minor": 5
}
